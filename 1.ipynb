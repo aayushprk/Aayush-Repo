{
 "cells": [
  {
   "cell_type": "code",
   "execution_count": 1,
   "id": "f193294a",
   "metadata": {},
   "outputs": [],
   "source": [
    "x = list()"
   ]
  },
  {
   "cell_type": "code",
   "execution_count": 2,
   "id": "eeb2100d",
   "metadata": {},
   "outputs": [
    {
     "name": "stdout",
     "output_type": "stream",
     "text": [
      "[]\n"
     ]
    }
   ],
   "source": [
    "print(x)"
   ]
  },
  {
   "cell_type": "code",
   "execution_count": 3,
   "id": "9ea8188a",
   "metadata": {},
   "outputs": [],
   "source": [
    "x.append(2)"
   ]
  },
  {
   "cell_type": "code",
   "execution_count": 4,
   "id": "4d18385a",
   "metadata": {},
   "outputs": [
    {
     "name": "stdout",
     "output_type": "stream",
     "text": [
      "[2]\n"
     ]
    }
   ],
   "source": [
    "print(x)"
   ]
  },
  {
   "cell_type": "code",
   "execution_count": 5,
   "id": "7746ae3b",
   "metadata": {},
   "outputs": [],
   "source": [
    "x.append(3)"
   ]
  },
  {
   "cell_type": "code",
   "execution_count": 6,
   "id": "49c1bbbc",
   "metadata": {},
   "outputs": [
    {
     "name": "stdout",
     "output_type": "stream",
     "text": [
      "[2, 3]\n"
     ]
    }
   ],
   "source": [
    "print(x)"
   ]
  },
  {
   "cell_type": "code",
   "execution_count": 7,
   "id": "9fa82179",
   "metadata": {},
   "outputs": [],
   "source": [
    "x.append(4)"
   ]
  },
  {
   "cell_type": "code",
   "execution_count": 8,
   "id": "ed4daaaf",
   "metadata": {},
   "outputs": [
    {
     "name": "stdout",
     "output_type": "stream",
     "text": [
      "[2, 3, 4]\n"
     ]
    }
   ],
   "source": [
    "print(x)"
   ]
  },
  {
   "cell_type": "code",
   "execution_count": 9,
   "id": "17c1d9ef",
   "metadata": {},
   "outputs": [],
   "source": [
    "x.append(5)"
   ]
  },
  {
   "cell_type": "code",
   "execution_count": 10,
   "id": "801e0533",
   "metadata": {},
   "outputs": [
    {
     "name": "stdout",
     "output_type": "stream",
     "text": [
      "[2, 3, 4, 5]\n"
     ]
    }
   ],
   "source": [
    "print(x)"
   ]
  },
  {
   "cell_type": "code",
   "execution_count": 11,
   "id": "4fe06c96",
   "metadata": {},
   "outputs": [],
   "source": [
    "x.append(6)"
   ]
  },
  {
   "cell_type": "code",
   "execution_count": 12,
   "id": "c59b552f",
   "metadata": {},
   "outputs": [
    {
     "name": "stdout",
     "output_type": "stream",
     "text": [
      "[2, 3, 4, 5, 6]\n"
     ]
    }
   ],
   "source": [
    "print(x)"
   ]
  },
  {
   "cell_type": "code",
   "execution_count": 13,
   "id": "a699f0b4",
   "metadata": {},
   "outputs": [],
   "source": [
    "x.append(10)"
   ]
  },
  {
   "cell_type": "code",
   "execution_count": 14,
   "id": "0e866e2f",
   "metadata": {},
   "outputs": [
    {
     "name": "stdout",
     "output_type": "stream",
     "text": [
      "[2, 3, 4, 5, 6, 10]\n"
     ]
    }
   ],
   "source": [
    "print(x)"
   ]
  },
  {
   "cell_type": "code",
   "execution_count": 15,
   "id": "d4b87af8",
   "metadata": {},
   "outputs": [],
   "source": [
    "x.append(11)"
   ]
  },
  {
   "cell_type": "code",
   "execution_count": 16,
   "id": "facbc79f",
   "metadata": {},
   "outputs": [
    {
     "name": "stdout",
     "output_type": "stream",
     "text": [
      "[2, 3, 4, 5, 6, 10, 11]\n"
     ]
    }
   ],
   "source": [
    "print(x)"
   ]
  },
  {
   "cell_type": "code",
   "execution_count": 18,
   "id": "6d52f5da",
   "metadata": {},
   "outputs": [
    {
     "ename": "TypeError",
     "evalue": "list.clear() takes no arguments (1 given)",
     "output_type": "error",
     "traceback": [
      "\u001b[1;31m---------------------------------------------------------------------------\u001b[0m",
      "\u001b[1;31mTypeError\u001b[0m                                 Traceback (most recent call last)",
      "\u001b[1;32m~\\AppData\\Local\\Temp\\ipykernel_984\\789148436.py\u001b[0m in \u001b[0;36m<module>\u001b[1;34m\u001b[0m\n\u001b[1;32m----> 1\u001b[1;33m \u001b[0mx\u001b[0m\u001b[1;33m.\u001b[0m\u001b[0mclear\u001b[0m\u001b[1;33m(\u001b[0m\u001b[1;36m2\u001b[0m\u001b[1;33m)\u001b[0m\u001b[1;33m\u001b[0m\u001b[1;33m\u001b[0m\u001b[0m\n\u001b[0m",
      "\u001b[1;31mTypeError\u001b[0m: list.clear() takes no arguments (1 given)"
     ]
    }
   ],
   "source": [
    "x.clear()"
   ]
  },
  {
   "cell_type": "code",
   "execution_count": 19,
   "id": "edcdd0c2",
   "metadata": {},
   "outputs": [
    {
     "name": "stdout",
     "output_type": "stream",
     "text": [
      "[]\n"
     ]
    }
   ],
   "source": [
    "print(x)"
   ]
  },
  {
   "cell_type": "code",
   "execution_count": 20,
   "id": "a2633f4f",
   "metadata": {},
   "outputs": [],
   "source": [
    "x.append(11)"
   ]
  },
  {
   "cell_type": "code",
   "execution_count": 21,
   "id": "936c62b8",
   "metadata": {},
   "outputs": [
    {
     "name": "stdout",
     "output_type": "stream",
     "text": [
      "[11]\n"
     ]
    }
   ],
   "source": [
    "print(x)"
   ]
  },
  {
   "cell_type": "code",
   "execution_count": 22,
   "id": "9dc494aa",
   "metadata": {},
   "outputs": [],
   "source": [
    "x.append(12)"
   ]
  },
  {
   "cell_type": "code",
   "execution_count": 23,
   "id": "1efc26d9",
   "metadata": {},
   "outputs": [
    {
     "data": {
      "text/plain": [
       "[11, 12]"
      ]
     },
     "execution_count": 23,
     "metadata": {},
     "output_type": "execute_result"
    }
   ],
   "source": [
    "(x)"
   ]
  },
  {
   "cell_type": "code",
   "execution_count": 24,
   "id": "b4cf652a",
   "metadata": {},
   "outputs": [],
   "source": [
    "x.append(13)"
   ]
  },
  {
   "cell_type": "code",
   "execution_count": 25,
   "id": "bfb3c7d9",
   "metadata": {},
   "outputs": [
    {
     "data": {
      "text/plain": [
       "[11, 12, 13]"
      ]
     },
     "execution_count": 25,
     "metadata": {},
     "output_type": "execute_result"
    }
   ],
   "source": [
    "(x)"
   ]
  },
  {
   "cell_type": "code",
   "execution_count": 26,
   "id": "5dbb9ae0",
   "metadata": {},
   "outputs": [],
   "source": [
    "x.append(14)"
   ]
  },
  {
   "cell_type": "code",
   "execution_count": 27,
   "id": "3c5cbf1a",
   "metadata": {},
   "outputs": [
    {
     "data": {
      "text/plain": [
       "[11, 12, 13, 14]"
      ]
     },
     "execution_count": 27,
     "metadata": {},
     "output_type": "execute_result"
    }
   ],
   "source": [
    "(x)"
   ]
  },
  {
   "cell_type": "code",
   "execution_count": 28,
   "id": "a9b3370c",
   "metadata": {},
   "outputs": [],
   "source": [
    "x.append(15)"
   ]
  },
  {
   "cell_type": "code",
   "execution_count": 29,
   "id": "a973f78b",
   "metadata": {},
   "outputs": [
    {
     "data": {
      "text/plain": [
       "[11, 12, 13, 14, 15]"
      ]
     },
     "execution_count": 29,
     "metadata": {},
     "output_type": "execute_result"
    }
   ],
   "source": [
    "(x)"
   ]
  },
  {
   "cell_type": "code",
   "execution_count": 30,
   "id": "c7567b23",
   "metadata": {},
   "outputs": [],
   "source": [
    "x.append(16)"
   ]
  },
  {
   "cell_type": "code",
   "execution_count": 31,
   "id": "0c9467b0",
   "metadata": {},
   "outputs": [
    {
     "data": {
      "text/plain": [
       "[11, 12, 13, 14, 15, 16]"
      ]
     },
     "execution_count": 31,
     "metadata": {},
     "output_type": "execute_result"
    }
   ],
   "source": [
    "(x)"
   ]
  },
  {
   "cell_type": "code",
   "execution_count": 32,
   "id": "03fcacfd",
   "metadata": {},
   "outputs": [
    {
     "data": {
      "text/plain": [
       "[11, 12, 13, 14, 15, 16]"
      ]
     },
     "execution_count": 32,
     "metadata": {},
     "output_type": "execute_result"
    }
   ],
   "source": [
    "x.copy()"
   ]
  },
  {
   "cell_type": "code",
   "execution_count": 33,
   "id": "1bbf4790",
   "metadata": {},
   "outputs": [],
   "source": [
    "y = x.copy()"
   ]
  },
  {
   "cell_type": "code",
   "execution_count": 34,
   "id": "9e38d6f7",
   "metadata": {},
   "outputs": [
    {
     "name": "stdout",
     "output_type": "stream",
     "text": [
      "[11, 12, 13, 14, 15, 16]\n"
     ]
    }
   ],
   "source": [
    "print(y)"
   ]
  },
  {
   "cell_type": "code",
   "execution_count": 35,
   "id": "86767c5f",
   "metadata": {},
   "outputs": [],
   "source": [
    "y.append(11)"
   ]
  },
  {
   "cell_type": "code",
   "execution_count": 36,
   "id": "6f891e64",
   "metadata": {},
   "outputs": [
    {
     "data": {
      "text/plain": [
       "[11, 12, 13, 14, 15, 16, 11]"
      ]
     },
     "execution_count": 36,
     "metadata": {},
     "output_type": "execute_result"
    }
   ],
   "source": [
    "(y)"
   ]
  },
  {
   "cell_type": "code",
   "execution_count": 38,
   "id": "fb454b01",
   "metadata": {},
   "outputs": [
    {
     "data": {
      "text/plain": [
       "2"
      ]
     },
     "execution_count": 38,
     "metadata": {},
     "output_type": "execute_result"
    }
   ],
   "source": [
    "y.count(11)"
   ]
  },
  {
   "cell_type": "code",
   "execution_count": 43,
   "id": "2a410ed1",
   "metadata": {},
   "outputs": [],
   "source": [
    "y.extend([17,18,19,20,21])"
   ]
  },
  {
   "cell_type": "code",
   "execution_count": 44,
   "id": "ada3c097",
   "metadata": {},
   "outputs": [
    {
     "data": {
      "text/plain": [
       "[11, 12, 13, 14, 15, 16, 11, 17, 18, 19, 20, 21]"
      ]
     },
     "execution_count": 44,
     "metadata": {},
     "output_type": "execute_result"
    }
   ],
   "source": [
    "(y)"
   ]
  },
  {
   "cell_type": "code",
   "execution_count": 48,
   "id": "ebbd9643",
   "metadata": {},
   "outputs": [
    {
     "data": {
      "text/plain": [
       "2"
      ]
     },
     "execution_count": 48,
     "metadata": {},
     "output_type": "execute_result"
    }
   ],
   "source": [
    "y.index(13)"
   ]
  },
  {
   "cell_type": "code",
   "execution_count": 49,
   "id": "01da0a52",
   "metadata": {},
   "outputs": [],
   "source": [
    "y.insert(0,10)"
   ]
  },
  {
   "cell_type": "code",
   "execution_count": 50,
   "id": "ddf0407d",
   "metadata": {},
   "outputs": [
    {
     "data": {
      "text/plain": [
       "[10, 11, 12, 13, 14, 15, 16, 11, 17, 18, 19, 20, 21]"
      ]
     },
     "execution_count": 50,
     "metadata": {},
     "output_type": "execute_result"
    }
   ],
   "source": [
    "(y)"
   ]
  },
  {
   "cell_type": "code",
   "execution_count": 51,
   "id": "0f924ac6",
   "metadata": {},
   "outputs": [
    {
     "data": {
      "text/plain": [
       "17"
      ]
     },
     "execution_count": 51,
     "metadata": {},
     "output_type": "execute_result"
    }
   ],
   "source": [
    "y.pop(8)"
   ]
  },
  {
   "cell_type": "code",
   "execution_count": 52,
   "id": "96134497",
   "metadata": {},
   "outputs": [
    {
     "data": {
      "text/plain": [
       "[10, 11, 12, 13, 14, 15, 16, 11, 18, 19, 20, 21]"
      ]
     },
     "execution_count": 52,
     "metadata": {},
     "output_type": "execute_result"
    }
   ],
   "source": [
    "(y)"
   ]
  },
  {
   "cell_type": "code",
   "execution_count": 53,
   "id": "9f5116a0",
   "metadata": {},
   "outputs": [],
   "source": [
    "y.remove(19)"
   ]
  },
  {
   "cell_type": "code",
   "execution_count": 54,
   "id": "fab7524f",
   "metadata": {},
   "outputs": [
    {
     "data": {
      "text/plain": [
       "[10, 11, 12, 13, 14, 15, 16, 11, 18, 20, 21]"
      ]
     },
     "execution_count": 54,
     "metadata": {},
     "output_type": "execute_result"
    }
   ],
   "source": [
    "(y)"
   ]
  },
  {
   "cell_type": "code",
   "execution_count": 55,
   "id": "b59f3933",
   "metadata": {},
   "outputs": [],
   "source": [
    "y.reverse()"
   ]
  },
  {
   "cell_type": "code",
   "execution_count": 56,
   "id": "263e7d3a",
   "metadata": {},
   "outputs": [
    {
     "data": {
      "text/plain": [
       "[21, 20, 18, 11, 16, 15, 14, 13, 12, 11, 10]"
      ]
     },
     "execution_count": 56,
     "metadata": {},
     "output_type": "execute_result"
    }
   ],
   "source": [
    "(y)"
   ]
  },
  {
   "cell_type": "code",
   "execution_count": 57,
   "id": "c6844edf",
   "metadata": {},
   "outputs": [
    {
     "ename": "NameError",
     "evalue": "name 'true' is not defined",
     "output_type": "error",
     "traceback": [
      "\u001b[1;31m---------------------------------------------------------------------------\u001b[0m",
      "\u001b[1;31mNameError\u001b[0m                                 Traceback (most recent call last)",
      "\u001b[1;32m~\\AppData\\Local\\Temp\\ipykernel_984\\284124843.py\u001b[0m in \u001b[0;36m<module>\u001b[1;34m\u001b[0m\n\u001b[1;32m----> 1\u001b[1;33m \u001b[0my\u001b[0m\u001b[1;33m.\u001b[0m\u001b[0mreverse\u001b[0m\u001b[1;33m(\u001b[0m\u001b[0mreverse\u001b[0m \u001b[1;33m=\u001b[0m \u001b[0mtrue\u001b[0m\u001b[1;33m)\u001b[0m\u001b[1;33m\u001b[0m\u001b[1;33m\u001b[0m\u001b[0m\n\u001b[0m",
      "\u001b[1;31mNameError\u001b[0m: name 'true' is not defined"
     ]
    }
   ],
   "source": [
    "y.reverse(reverse = true)"
   ]
  },
  {
   "cell_type": "code",
   "execution_count": 58,
   "id": "26cfbc4f",
   "metadata": {},
   "outputs": [],
   "source": [
    "y.sort()"
   ]
  },
  {
   "cell_type": "code",
   "execution_count": 59,
   "id": "6f62d08e",
   "metadata": {},
   "outputs": [
    {
     "data": {
      "text/plain": [
       "[10, 11, 11, 12, 13, 14, 15, 16, 18, 20, 21]"
      ]
     },
     "execution_count": 59,
     "metadata": {},
     "output_type": "execute_result"
    }
   ],
   "source": [
    "(y)"
   ]
  },
  {
   "cell_type": "code",
   "execution_count": 63,
   "id": "c31f155e",
   "metadata": {},
   "outputs": [],
   "source": [
    "y.sort()"
   ]
  },
  {
   "cell_type": "code",
   "execution_count": 64,
   "id": "49eeaf81",
   "metadata": {},
   "outputs": [
    {
     "data": {
      "text/plain": [
       "[10, 11, 11, 12, 13, 14, 15, 16, 18, 20, 21]"
      ]
     },
     "execution_count": 64,
     "metadata": {},
     "output_type": "execute_result"
    }
   ],
   "source": [
    "(y)"
   ]
  },
  {
   "cell_type": "code",
   "execution_count": null,
   "id": "d17514ef",
   "metadata": {},
   "outputs": [],
   "source": []
  }
 ],
 "metadata": {
  "kernelspec": {
   "display_name": "Python 3 (ipykernel)",
   "language": "python",
   "name": "python3"
  },
  "language_info": {
   "codemirror_mode": {
    "name": "ipython",
    "version": 3
   },
   "file_extension": ".py",
   "mimetype": "text/x-python",
   "name": "python",
   "nbconvert_exporter": "python",
   "pygments_lexer": "ipython3",
   "version": "3.9.13"
  }
 },
 "nbformat": 4,
 "nbformat_minor": 5
}
