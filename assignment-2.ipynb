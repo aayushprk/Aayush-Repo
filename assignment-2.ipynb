{
 "cells": [
  {
   "cell_type": "code",
   "execution_count": 1,
   "id": "205abb1a",
   "metadata": {},
   "outputs": [],
   "source": [
    "def is_pan_number(string):\n",
    "    \n",
    "    if len(string) != 10:\n",
    "    \n",
    "       return False\n",
    "\n",
    "    else:\n",
    "        \n",
    "        for character in string[0:5]:\n",
    "            \n",
    "            if ord(character) < 65 or ord(character) > 90:\n",
    "                \n",
    "                return False\n",
    "            \n",
    "        for character in string[5:9]:\n",
    "            \n",
    "            if ord(character) < 48 or ord(character) > 57:\n",
    "            \n",
    "                return False\n",
    "            \n",
    "            if ord(string[9]) < 65 or ord(string[9]) > 90:\n",
    "                \n",
    "                return False\n",
    "            \n",
    "            else:\n",
    "                \n",
    "                return True\n",
    "            \n",
    "    "
   ]
  },
  {
   "cell_type": "code",
   "execution_count": 2,
   "id": "7f16f79d",
   "metadata": {},
   "outputs": [],
   "source": [
    "def is_gst_number(string):\n",
    "    \n",
    "    if len(string) != 15:\n",
    "        \n",
    "        return False\n",
    "    \n",
    "    else:\n",
    "        \n",
    "        for character in string[0:2]:\n",
    "            \n",
    "            if ord(character) < 48 or ord(character) > 57:\n",
    "                \n",
    "                return False\n",
    "            \n",
    "            if is_pan_number(string[2:12]) == False:\n",
    "            \n",
    "                return False\n",
    "        \n",
    "            if (ord(string[12]) >= 48 or ord(string[12]) <=57) and (ord(string[13]) >= 65 or ord(string[13]) <= 90) and (ord(string[14]) >=48 or ord(string[14]) <=57):\n",
    "            \n",
    "                return True\n",
    "        \n",
    "        else:\n",
    "            \n",
    "                return False"
   ]
  },
  {
   "cell_type": "code",
   "execution_count": 3,
   "id": "eb8563b2",
   "metadata": {},
   "outputs": [],
   "source": [
    "def is_dl_number(string):\n",
    "    \n",
    "    if len(string) != 15:\n",
    "        \n",
    "        return False\n",
    "    \n",
    "    else:\n",
    "        \n",
    "        for charater in string[0:2]:\n",
    "            \n",
    "            if ord(character) < 65 or ord(character) > 90:\n",
    "                \n",
    "                return False\n",
    "            \n",
    "            for character in string[2:15]:\n",
    "                \n",
    "                if ord(character) > 48 or ord(character) < 57:\n",
    "                    \n",
    "                    return False\n",
    "                \n",
    "                else:\n",
    "                    \n",
    "                    return True\n",
    "                \n",
    "         \n",
    "        \n",
    "        \n",
    "    "
   ]
  },
  {
   "cell_type": "code",
   "execution_count": 4,
   "id": "ec7d31e4",
   "metadata": {},
   "outputs": [
    {
     "data": {
      "text/plain": [
       "True"
      ]
     },
     "execution_count": 4,
     "metadata": {},
     "output_type": "execute_result"
    }
   ],
   "source": [
    "is_pan_number(\"ABCDE1234F\")"
   ]
  },
  {
   "cell_type": "code",
   "execution_count": 5,
   "id": "7d698625",
   "metadata": {},
   "outputs": [
    {
     "data": {
      "text/plain": [
       "False"
      ]
     },
     "execution_count": 5,
     "metadata": {},
     "output_type": "execute_result"
    }
   ],
   "source": [
    "is_pan_number(\"ABCDEF123G\")"
   ]
  },
  {
   "cell_type": "code",
   "execution_count": 6,
   "id": "833b5b98",
   "metadata": {},
   "outputs": [
    {
     "data": {
      "text/plain": [
       "True"
      ]
     },
     "execution_count": 6,
     "metadata": {},
     "output_type": "execute_result"
    }
   ],
   "source": [
    "is_gst_number(\"12ABCDE3456F7G8\")"
   ]
  },
  {
   "cell_type": "code",
   "execution_count": 7,
   "id": "0261ce9c",
   "metadata": {},
   "outputs": [
    {
     "data": {
      "text/plain": [
       "True"
      ]
     },
     "execution_count": 7,
     "metadata": {},
     "output_type": "execute_result"
    }
   ],
   "source": [
    "is_gst_number(\"12ABCDE3456F7GF\")"
   ]
  },
  {
   "cell_type": "code",
   "execution_count": null,
   "id": "234912f1",
   "metadata": {},
   "outputs": [],
   "source": []
  },
  {
   "cell_type": "code",
   "execution_count": null,
   "id": "6a1db025",
   "metadata": {},
   "outputs": [],
   "source": []
  },
  {
   "cell_type": "code",
   "execution_count": null,
   "id": "02322214",
   "metadata": {},
   "outputs": [],
   "source": []
  }
 ],
 "metadata": {
  "kernelspec": {
   "display_name": "Python 3 (ipykernel)",
   "language": "python",
   "name": "python3"
  },
  "language_info": {
   "codemirror_mode": {
    "name": "ipython",
    "version": 3
   },
   "file_extension": ".py",
   "mimetype": "text/x-python",
   "name": "python",
   "nbconvert_exporter": "python",
   "pygments_lexer": "ipython3",
   "version": "3.9.13"
  }
 },
 "nbformat": 4,
 "nbformat_minor": 5
}
